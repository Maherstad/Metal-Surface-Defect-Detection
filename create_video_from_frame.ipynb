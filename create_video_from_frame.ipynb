{
 "cells": [
  {
   "cell_type": "code",
   "execution_count": 3,
   "id": "5d758370-a52f-4bae-a05b-61ddf13a5c6d",
   "metadata": {},
   "outputs": [],
   "source": [
    "import cv2\n",
    "import numpy as np\n",
    "\n",
    "def create_sliding_video(image_path, sliding_direction, duration):\n",
    "    # Read the image\n",
    "    image = cv2.imread(image_path)\n",
    "    \n",
    "    # Extract image dimensions\n",
    "    height, width, _ = image.shape\n",
    "    \n",
    "    # Set the sliding distance based on the direction\n",
    "    if sliding_direction == \"horizontal\":\n",
    "        sliding_distance = width\n",
    "    elif sliding_direction == \"vertical\":\n",
    "        sliding_distance = height\n",
    "    else:\n",
    "        raise ValueError(\"Invalid sliding direction. Please choose 'horizontal' or 'vertical'.\")\n",
    "    \n",
    "    # Calculate the number of frames and duration per frame\n",
    "    num_frames = int(duration * 30)  # Assuming 30 frames per second\n",
    "    sliding_speed = sliding_distance / num_frames\n",
    "    \n",
    "    # Create an empty video writer object\n",
    "    fourcc = cv2.VideoWriter_fourcc(*\"mp4v\")\n",
    "    output_video = cv2.VideoWriter(\"sliding_video.mp4\", fourcc, 30, (width, height))\n",
    "    \n",
    "    # Generate each frame of the sliding video\n",
    "    for i in range(num_frames):\n",
    "        # Calculate the offset based on the sliding direction\n",
    "        if sliding_direction == \"horizontal\":\n",
    "            offset = int(i * sliding_speed)\n",
    "            frame = np.roll(image, offset, axis=1)\n",
    "        elif sliding_direction == \"vertical\":\n",
    "            offset = int(i * sliding_speed)\n",
    "            frame = np.roll(image, offset, axis=0)\n",
    "        \n",
    "        # Write the frame to the video\n",
    "        output_video.write(frame)\n",
    "    \n",
    "    # Release the video writer and destroy any remaining windows\n",
    "    output_video.release()\n",
    "    cv2.destroyAllWindows()\n",
    "    \n",
    "    print(\"Sliding video created successfully.\")\n",
    "\n",
    "# Example usage\n"
   ]
  },
  {
   "cell_type": "code",
   "execution_count": 4,
   "id": "4799b4a8-d850-4a03-b618-ac230946537d",
   "metadata": {},
   "outputs": [
    {
     "name": "stdout",
     "output_type": "stream",
     "text": [
      "Sliding video created successfully.\n"
     ]
    }
   ],
   "source": [
    "# Example usage\n",
    "image_path = './Metallic-Surface-Defect-Detection/yolo_dataset/train/images/img_01_3402617700_00001.jpg'\n",
    "create_sliding_video(image_path, \"vertical\", 10) #horizontal\n",
    "# Example usage"
   ]
  },
  {
   "cell_type": "code",
   "execution_count": null,
   "id": "4f2f1c35-a416-44c4-9ced-adebd4258de0",
   "metadata": {},
   "outputs": [],
   "source": []
  }
 ],
 "metadata": {
  "kernelspec": {
   "display_name": "pytorch_env",
   "language": "python",
   "name": "pytorch_env"
  },
  "language_info": {
   "codemirror_mode": {
    "name": "ipython",
    "version": 3
   },
   "file_extension": ".py",
   "mimetype": "text/x-python",
   "name": "python",
   "nbconvert_exporter": "python",
   "pygments_lexer": "ipython3",
   "version": "3.9.13"
  }
 },
 "nbformat": 4,
 "nbformat_minor": 5
}
