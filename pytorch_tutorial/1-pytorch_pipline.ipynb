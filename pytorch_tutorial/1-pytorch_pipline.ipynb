{
 "cells": [
  {
   "cell_type": "code",
   "execution_count": 1,
   "id": "bd1fbbfd-3f8a-4e17-8185-1928db4f4672",
   "metadata": {},
   "outputs": [],
   "source": [
    "import torch \n",
    "import torch.nn as nn\n",
    "import pandas as pd \n",
    "import numpy as np \n",
    "from tqdm import tqdm \n",
    "from sklearn.datasets import make_regression,make_classification\n",
    "from sklearn.model_selection import train_test_split\n",
    "import matplotlib.pyplot as plt\n"
   ]
  },
  {
   "cell_type": "code",
   "execution_count": 2,
   "id": "295c676c-d598-42bf-a04c-3f1bb827b454",
   "metadata": {},
   "outputs": [
    {
     "name": "stdout",
     "output_type": "stream",
     "text": [
      "cuda\n"
     ]
    }
   ],
   "source": [
    "device = 'cuda' if torch.cuda.is_available() else 'cpu'\n",
    "print(device)"
   ]
  },
  {
   "cell_type": "code",
   "execution_count": 3,
   "id": "6d721728-3ae7-4cd0-919e-ff8827b081b7",
   "metadata": {},
   "outputs": [],
   "source": [
    "#custom dataset\n",
    "\n",
    "class CustDat(torch.utils.data.Dataset):\n",
    "    def __init__(self,df,target):\n",
    "        self.df = df \n",
    "        self.target = target\n",
    "    def __len__(self):\n",
    "        return self.df.shape[0]\n",
    "    def __getitem__(self,idx):\n",
    "        dp = self.df.iloc[idx].values\n",
    "        targ = self.target[idx]\n",
    "        \n",
    "        dp = torch.from_numpy(dp).float()\n",
    "        targ = torch.tensor(targ).float()\n",
    "\n",
    "        return dp,targ"
   ]
  },
  {
   "cell_type": "code",
   "execution_count": 4,
   "id": "0c1047aa-b8b4-40f1-9892-7cfb9fd80a5a",
   "metadata": {},
   "outputs": [],
   "source": [
    "# model \n",
    "\n",
    "class Net(nn.Module):\n",
    "    def __init__(self):\n",
    "        super(Net, self).__init__()\n",
    "        \n",
    "        self.layer1 = nn.Linear(10,20)\n",
    "        self.layer2 = nn.Linear(20,20)\n",
    "        self.layer3= nn.Linear(20,1)\n",
    "        self.relu = nn.ReLU()\n",
    "        self.sig = nn.Sigmoid()\n",
    "        \n",
    "        \n",
    "    def forward(self,x):\n",
    "        x = self.layer1(x)\n",
    "        x = self.relu(x)\n",
    "        x = self.layer2(x)\n",
    "        x= self.relu(x)\n",
    "        x=self.layer3(x)\n",
    "        x=self.relu(x)\n",
    "        x = self.sig(x)\n",
    "        \n",
    "        return x"
   ]
  },
  {
   "cell_type": "code",
   "execution_count": 5,
   "id": "64cab71c-caf2-4fcb-aa0e-a9eea3993010",
   "metadata": {},
   "outputs": [],
   "source": [
    "train, target = make_classification(n_samples = 5000, n_features = 10 ,n_informative =8,\n",
    "                                    random_state = 1, n_classes=2 )\n",
    "train = pd.DataFrame(train)\n",
    "\n",
    "train_x, test_x , train_y, test_y = train_test_split(train,target,\n",
    "                                                     test_size=0.1,\n",
    "                                                     random_state=1234)\n",
    "\n",
    "train_dl = torch.utils.data.DataLoader(CustDat(train_x,train_y),\n",
    "                                batch_size = 265,\n",
    "                                shuffle = True,\n",
    "                                num_workers=0 ,\n",
    "                                pin_memory = True, #false is cpu \n",
    "                                )\n",
    "\n",
    "\n",
    "\n",
    "val_dl = torch.utils.data.DataLoader(CustDat(test_x,test_y),\n",
    "                                batch_size = 265,\n",
    "                                shuffle = True,\n",
    "                                num_workers=0 ,\n",
    "                                pin_memory = True, #false is cpu \n",
    "                                )"
   ]
  },
  {
   "cell_type": "code",
   "execution_count": 6,
   "id": "be698d62-47cd-4456-9caf-cdf95429a2a4",
   "metadata": {},
   "outputs": [
    {
     "data": {
      "text/plain": [
       "[tensor([[-0.2524, -0.0612,  1.5737,  ...,  0.8996,  1.8677,  0.0193],\n",
       "         [-3.2803, -2.3132,  1.5804,  ..., -1.1475,  0.5849,  3.9322],\n",
       "         [ 2.5372, -2.6728,  0.3836,  ..., -1.7896, -1.0619, -2.6930],\n",
       "         ...,\n",
       "         [-1.1596,  4.1251, -1.6627,  ..., -1.3249, -2.7631, -4.1500],\n",
       "         [ 1.7844,  0.3930, -2.6055,  ..., -0.1527,  0.8033,  3.0325],\n",
       "         [-1.6146,  1.8432,  0.4689,  ..., -0.7656, -2.0682, -4.1592]]),\n",
       " tensor([0., 1., 0., 1., 1., 0., 1., 1., 1., 0., 1., 0., 0., 0., 1., 0., 1., 0.,\n",
       "         1., 0., 0., 1., 0., 0., 0., 0., 0., 1., 0., 1., 1., 0., 0., 0., 1., 0.,\n",
       "         1., 0., 0., 0., 0., 0., 0., 0., 0., 0., 1., 1., 1., 0., 0., 0., 0., 1.,\n",
       "         0., 1., 0., 0., 1., 0., 1., 1., 1., 0., 0., 0., 0., 0., 0., 0., 1., 0.,\n",
       "         0., 0., 1., 1., 0., 0., 1., 1., 0., 0., 0., 1., 1., 0., 0., 0., 0., 0.,\n",
       "         0., 0., 0., 1., 0., 1., 0., 1., 1., 1., 1., 1., 0., 0., 1., 0., 1., 1.,\n",
       "         1., 1., 0., 0., 1., 1., 0., 1., 1., 1., 1., 1., 1., 1., 0., 0., 1., 1.,\n",
       "         0., 0., 0., 0., 1., 0., 0., 1., 0., 0., 0., 0., 1., 1., 1., 1., 0., 1.,\n",
       "         0., 0., 0., 0., 0., 0., 1., 0., 0., 1., 1., 0., 0., 1., 1., 0., 1., 1.,\n",
       "         1., 0., 1., 1., 0., 1., 0., 1., 0., 1., 1., 0., 0., 0., 1., 1., 0., 1.,\n",
       "         0., 0., 0., 1., 1., 0., 0., 1., 0., 1., 1., 1., 0., 1., 1., 0., 0., 1.,\n",
       "         0., 0., 1., 0., 1., 0., 1., 0., 0., 1., 1., 0., 0., 0., 0., 1., 0., 0.,\n",
       "         0., 1., 1., 1., 0., 1., 0., 1., 0., 1., 0., 1., 1., 1., 0., 0., 1., 1.,\n",
       "         1., 1., 0., 1., 0., 1., 0., 0., 0., 0., 1., 0., 0., 1., 1., 0., 0., 1.,\n",
       "         1., 1., 0., 0., 0., 1., 0., 0., 1., 1., 0., 0., 1.])]"
      ]
     },
     "execution_count": 6,
     "metadata": {},
     "output_type": "execute_result"
    }
   ],
   "source": [
    "next(iter(train_dl))"
   ]
  },
  {
   "cell_type": "code",
   "execution_count": 7,
   "id": "b8e2ed3b-823a-4550-91ea-3b57450ac2b4",
   "metadata": {},
   "outputs": [],
   "source": [
    "model = Net()\n",
    "model.to(device)\n",
    "\n",
    "loss_fn = nn.BCELoss()\n",
    "optimizer = torch.optim.SGD(model.parameters(), lr = 0.01)"
   ]
  },
  {
   "cell_type": "code",
   "execution_count": 8,
   "id": "23219220-03ea-4782-a86b-69a1b8e2e82d",
   "metadata": {},
   "outputs": [
    {
     "name": "stdout",
     "output_type": "stream",
     "text": [
      "Net(\n",
      "  (layer1): Linear(in_features=10, out_features=20, bias=True)\n",
      "  (layer2): Linear(in_features=20, out_features=20, bias=True)\n",
      "  (layer3): Linear(in_features=20, out_features=1, bias=True)\n",
      "  (relu): ReLU()\n",
      "  (sig): Sigmoid()\n",
      ")\n"
     ]
    }
   ],
   "source": [
    "print(model)"
   ]
  },
  {
   "cell_type": "code",
   "execution_count": 9,
   "id": "a104aca0-2ef4-4b1c-83e0-f6106eb19da4",
   "metadata": {},
   "outputs": [
    {
     "name": "stdout",
     "output_type": "stream",
     "text": [
      "epoch        | train_epoch_loss | test_epoch_loss   \n",
      "          0 |           0.6927 |            1.3859\n",
      "         10 |           0.6756 |            1.3573\n",
      "         20 |           0.6505 |            1.3004\n",
      "         30 |           0.6021 |            1.2123\n",
      "         40 |           0.5488 |            1.1142\n",
      "         50 |           0.5573 |            1.0337\n",
      "         60 |           0.5206 |            0.9763\n",
      "         70 |           0.4782 |            0.9458\n",
      "         80 |           0.4863 |            0.9199\n",
      "         90 |           0.4763 |            0.9080\n"
     ]
    }
   ],
   "source": [
    "# training loop \n",
    "\n",
    "\n",
    "num_epochs = 100\n",
    "train_loss = []\n",
    "test_loss = []\n",
    "print('epoch        | train_epoch_loss | test_epoch_loss   ')\n",
    "\n",
    "# Create a tqdm progress bar outside the loop\n",
    "#progress_bar = tqdm(total=num_epochs, desc='Training Progress')\n",
    "\n",
    "\n",
    "for epoch in range(num_epochs):\n",
    "    train_epoch_loss = 0\n",
    "    test_epoch_loss = 0\n",
    "    for data,target in train_dl:\n",
    "        data = data.to(device, non_blocking=True)\n",
    "        target = target.to(device, non_blocking=True)   \n",
    "        \n",
    "        output = model(data)\n",
    "        loss = loss_fn(output.squeeze(), target)\n",
    "        train_epoch_loss =+ loss.detach().cpu().numpy()\n",
    "        \n",
    "        \n",
    "        optimizer.zero_grad()\n",
    "        loss.backward()\n",
    "        optimizer.step()\n",
    "\n",
    "        # no need for no_grad() we're not training to we'll not\n",
    "        # used backprop so there is no need for the backward graph\n",
    "    with torch.no_grad():\n",
    "         for data,target in val_dl:\n",
    "                data = data.to(device, non_blocking=True)\n",
    "                target = target.to(device, non_blocking=True) \n",
    "                output = model(data)\n",
    "                loss = loss_fn(output.squeeze(),target)\n",
    "                # no point of writing .detach() here since we're not working \n",
    "                # with computational graphs in the test phase\n",
    "                test_epoch_loss += loss.detach().cpu().numpy()\n",
    "    train_loss.append(train_epoch_loss)\n",
    "    test_loss.append(test_epoch_loss)\n",
    "    \n",
    "    #progress_bar.set_postfix({'train_loss': train_epoch_loss, 'test_loss': test_epoch_loss})\n",
    "    #progress_bar.update(1)\n",
    "    if epoch % 10 ==0:\n",
    "        print(f' {epoch:10} | {train_epoch_loss:16.4f} |  {test_epoch_loss:16.4f}')\n",
    "    \n",
    "#progress_bar.close()\n",
    "    "
   ]
  },
  {
   "cell_type": "code",
   "execution_count": 10,
   "id": "b82748e6-70db-4922-a097-00fea9ee89d2",
   "metadata": {},
   "outputs": [
    {
     "data": {
      "image/png": "[encoded data removed]",
      "text/plain": [
       "<Figure size 640x480 with 1 Axes>"
      ]
     },
     "metadata": {},
     "output_type": "display_data"
    }
   ],
   "source": [
    "# Plot train loss and test loss\n",
    "plt.plot(train_loss, label='Train Loss')\n",
    "plt.plot(test_loss, label='Test Loss')\n",
    "\n",
    "# Customize plot\n",
    "plt.xlabel('Epoch')\n",
    "plt.ylabel('Loss')\n",
    "plt.title('Train Loss vs Test Loss')\n",
    "plt.legend()\n",
    "\n",
    "# Display the plot\n",
    "plt.show()"
   ]
  }
 ],
 "metadata": {
  "kernelspec": {
   "display_name": "pytorch_env",
   "language": "python",
   "name": "pytorch_env"
  },
  "language_info": {
   "codemirror_mode": {
    "name": "ipython",
    "version": 3
   },
   "file_extension": ".py",
   "mimetype": "text/x-python",
   "name": "python",
   "nbconvert_exporter": "python",
   "pygments_lexer": "ipython3",
   "version": "3.9.13"
  }
 },
 "nbformat": 4,
 "nbformat_minor": 5
}
