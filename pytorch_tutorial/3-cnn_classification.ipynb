{
 "cells": [
  {
   "cell_type": "code",
   "execution_count": 1,
   "id": "7019faa8-2234-4d82-805b-b190f77cf48b",
   "metadata": {},
   "outputs": [],
   "source": [
    "import numpy as np \n",
    "from sklearn.model_selection import train_test_split\n",
    "import matplotlib.pyplot as plt\n",
    "\n",
    "import torch\n",
    "import torch.nn as nn\n",
    "from torchvision import datasets, transforms"
   ]
  },
  {
   "cell_type": "code",
   "execution_count": 2,
   "id": "70ac50fb-ce35-4406-9e48-7f718c4a3bee",
   "metadata": {},
   "outputs": [],
   "source": [
    "mnist_dataset = datasets.MNIST(root = './mnist_data',train=True,download=True)"
   ]
  },
  {
   "cell_type": "code",
   "execution_count": 3,
   "id": "ed9abdad-4855-42c2-820a-9485fef8075d",
   "metadata": {},
   "outputs": [],
   "source": [
    "data , target = mnist_dataset.data , mnist_dataset.targets"
   ]
  },
  {
   "cell_type": "code",
   "execution_count": 4,
   "id": "4ba7b139-1630-400b-8c16-b735c9c651ea",
   "metadata": {},
   "outputs": [],
   "source": [
    "train_x, val_x, train_y, val_y = train_test_split(data,\n",
    "                                                  target,\n",
    "                                                  random_state =1234,\n",
    "                                                  test_size=0.1,\n",
    "                                                  stratify=target) #similar distribution for x and y"
   ]
  },
  {
   "cell_type": "code",
   "execution_count": 5,
   "id": "fc9ef332-65ce-40f0-8e90-1775ae16bed4",
   "metadata": {},
   "outputs": [],
   "source": [
    "tranfs = transforms.Compose([\n",
    "    transforms.Normalize((0.1307,),(0.3081))\n",
    "])"
   ]
  },
  {
   "cell_type": "code",
   "execution_count": 6,
   "id": "ce982c0d-62ec-4d13-af99-f519e9f7c773",
   "metadata": {},
   "outputs": [],
   "source": [
    "class CustDat(torch.utils.data.Dataset):\n",
    "    def __init__(self,imgs,target, transform  = None):\n",
    "        self.imgs = imgs\n",
    "        self.target = target\n",
    "        self.transform = transform\n",
    "        \n",
    "    def __len__(self):\n",
    "        return len(self.imgs)\n",
    "    \n",
    "    def __getitem__(self,idx):\n",
    "        img = self.imgs[idx].float() / 255\n",
    "        img = img.unsqueeze(0)\n",
    "        target = self.target[idx]\n",
    "        \n",
    "        if self.transform:\n",
    "            img = self.transform(img)\n",
    "            #dimensino (28,28) and needed is (1,28,28)\n",
    "            \n",
    "        return img,target"
   ]
  },
  {
   "cell_type": "code",
   "execution_count": 7,
   "id": "990446a2-505f-4b7b-b825-370e5e28c922",
   "metadata": {
    "collapsed": true,
    "jupyter": {
     "outputs_hidden": true
    },
    "tags": []
   },
   "outputs": [
    {
     "data": {
      "text/plain": [
       "(tensor([[[-0.4242, -0.4242, -0.4242, -0.4242, -0.4242, -0.4242, -0.4242,\n",
       "           -0.4242, -0.4242, -0.4242, -0.4242, -0.4242, -0.4242, -0.4242,\n",
       "           -0.4242, -0.4242, -0.4242, -0.4242, -0.4242, -0.4242, -0.4242,\n",
       "           -0.4242, -0.4242, -0.4242, -0.4242, -0.4242, -0.4242, -0.4242],\n",
       "          [-0.4242, -0.4242, -0.4242, -0.4242, -0.4242, -0.4242, -0.4242,\n",
       "           -0.4242, -0.4242, -0.4242, -0.4242, -0.4242, -0.4242, -0.4242,\n",
       "           -0.4242, -0.4242, -0.4242, -0.4242, -0.4242, -0.4242, -0.4242,\n",
       "           -0.4242, -0.4242, -0.4242, -0.4242, -0.4242, -0.4242, -0.4242],\n",
       "          [-0.4242, -0.4242, -0.4242, -0.4242, -0.4242, -0.4242, -0.4242,\n",
       "           -0.4242, -0.4242, -0.4242, -0.4242, -0.4242, -0.4242, -0.4242,\n",
       "           -0.4242, -0.4242, -0.4242, -0.4242, -0.4242, -0.4242, -0.4242,\n",
       "           -0.4242, -0.4242, -0.4242, -0.4242, -0.4242, -0.4242, -0.4242],\n",
       "          [-0.4242, -0.4242, -0.4242, -0.4242, -0.4242, -0.4242, -0.4242,\n",
       "           -0.4242, -0.4242, -0.4242, -0.4242, -0.4242, -0.4242, -0.4242,\n",
       "           -0.4242, -0.4242, -0.4242, -0.4242, -0.4242, -0.4242, -0.4242,\n",
       "           -0.4242, -0.4242, -0.4242, -0.4242, -0.4242, -0.4242, -0.4242],\n",
       "          [-0.4242, -0.4242, -0.4242, -0.4242, -0.4242, -0.4242, -0.4242,\n",
       "           -0.4242, -0.4242, -0.4242, -0.4242, -0.4242, -0.4242, -0.4242,\n",
       "           -0.4242, -0.4242, -0.4242, -0.4242, -0.4242, -0.4242, -0.4242,\n",
       "           -0.4242, -0.4242, -0.4242, -0.4242, -0.4242, -0.4242, -0.4242],\n",
       "          [-0.4242, -0.4242, -0.4242, -0.4242, -0.4242, -0.4242, -0.4242,\n",
       "           -0.4242, -0.4242, -0.4242, -0.4242, -0.4242, -0.4242, -0.4242,\n",
       "           -0.4242, -0.4242, -0.4242, -0.4242, -0.4242, -0.4242, -0.4242,\n",
       "           -0.4242, -0.4242, -0.4242, -0.4242, -0.4242, -0.4242, -0.4242],\n",
       "          [-0.4242, -0.4242, -0.4242, -0.4242, -0.4242, -0.4242, -0.4242,\n",
       "           -0.4242, -0.2842,  2.2869,  1.7778, -0.0296, -0.4242, -0.4242,\n",
       "           -0.4242, -0.4242, -0.4242, -0.4242, -0.4242, -0.4242, -0.4242,\n",
       "           -0.4242, -0.4242, -0.4242, -0.4242, -0.4242, -0.4242, -0.4242],\n",
       "          [-0.4242, -0.4242, -0.4242, -0.4242, -0.4242, -0.4242, -0.4242,\n",
       "           -0.4242,  0.2249,  2.7833,  2.7960,  2.5287,  1.3832,  0.8741,\n",
       "            0.8741,  1.9051,  1.6505,  2.1596,  0.6195, -0.4242, -0.4242,\n",
       "           -0.4242, -0.4242, -0.4242, -0.4242, -0.4242, -0.4242, -0.4242],\n",
       "          [-0.4242, -0.4242, -0.4242, -0.4242, -0.4242, -0.4242, -0.4242,\n",
       "           -0.4242,  0.2377,  2.7960,  2.8088,  2.7960,  2.8088,  2.7960,\n",
       "            2.8088,  2.7960,  2.8088,  2.7960,  2.1596, -0.4242, -0.4242,\n",
       "           -0.4242, -0.4242, -0.4242, -0.4242, -0.4242, -0.4242, -0.4242],\n",
       "          [-0.4242, -0.4242, -0.4242, -0.4242, -0.4242, -0.4242, -0.4242,\n",
       "           -0.4242,  0.2249,  2.7833,  2.0196,  2.0196,  2.7960,  2.7833,\n",
       "            2.7960,  2.7833,  2.7960,  2.7833,  2.4142, -0.1696, -0.4242,\n",
       "           -0.4242, -0.4242, -0.4242, -0.4242, -0.4242, -0.4242, -0.4242],\n",
       "          [-0.4242, -0.4242, -0.4242, -0.4242, -0.4242, -0.4242, -0.4242,\n",
       "           -0.4242,  0.2377,  2.7960,  0.8741, -0.4242, -0.4242,  0.0976,\n",
       "            0.8741,  0.8741,  2.0323,  2.7960,  2.8088,  0.2122, -0.4242,\n",
       "           -0.4242, -0.4242, -0.4242, -0.4242, -0.4242, -0.4242, -0.4242],\n",
       "          [-0.4242, -0.4242, -0.4242, -0.4242, -0.4242, -0.4242, -0.4242,\n",
       "           -0.4242,  0.2249,  2.7833,  0.8741, -0.4242, -0.4242, -0.4242,\n",
       "           -0.4242, -0.4242,  1.5105,  2.7833,  2.5415, -0.0424, -0.4242,\n",
       "           -0.4242, -0.4242, -0.4242, -0.4242, -0.4242, -0.4242, -0.4242],\n",
       "          [-0.4242, -0.4242, -0.4242, -0.4242, -0.4242, -0.4242, -0.4242,\n",
       "           -0.4242,  0.4922,  2.7960,  0.8741, -0.4242, -0.4242, -0.4242,\n",
       "           -0.4242, -0.4242,  1.5105,  2.7960,  2.1596, -0.4242, -0.4242,\n",
       "           -0.4242, -0.4242, -0.4242, -0.4242, -0.4242, -0.4242, -0.4242],\n",
       "          [-0.4242, -0.4242, -0.4242, -0.4242, -0.4242, -0.4242, -0.4242,\n",
       "           -0.4242,  1.0013,  2.7833,  0.8741, -0.4242, -0.4242, -0.4242,\n",
       "           -0.4242, -0.4242,  1.5105,  2.7833,  2.1596, -0.4242, -0.4242,\n",
       "           -0.4242, -0.4242, -0.4242, -0.4242, -0.4242, -0.4242, -0.4242],\n",
       "          [-0.4242, -0.4242, -0.4242, -0.4242, -0.4242, -0.4242, -0.4242,\n",
       "           -0.4242, -0.4242,  0.6195, -0.4242, -0.4242, -0.4242, -0.4242,\n",
       "           -0.4242, -0.4242,  2.8088,  2.7960,  2.1596, -0.4242, -0.4242,\n",
       "           -0.4242, -0.4242, -0.4242, -0.4242, -0.4242, -0.4242, -0.4242],\n",
       "          [-0.4242, -0.4242, -0.4242, -0.4242, -0.4242, -0.4242, -0.4242,\n",
       "           -0.4242, -0.4242, -0.4242, -0.4242, -0.4242, -0.4242, -0.4242,\n",
       "           -0.4242,  0.0976,  2.7960,  2.7833,  1.6378, -0.4242, -0.4242,\n",
       "           -0.4242, -0.4242, -0.4242, -0.4242, -0.4242, -0.4242, -0.4242],\n",
       "          [-0.4242, -0.4242, -0.4242, -0.4242, -0.4242, -0.4242, -0.4242,\n",
       "           -0.4242, -0.4242, -0.4242, -0.4242, -0.4242, -0.4242, -0.4242,\n",
       "           -0.4242,  2.1596,  2.8088,  2.7960,  0.0976, -0.4242, -0.4242,\n",
       "           -0.4242, -0.4242, -0.4242, -0.4242, -0.4242, -0.4242, -0.4242],\n",
       "          [-0.4242, -0.4242, -0.4242, -0.4242, -0.4242, -0.4242, -0.4242,\n",
       "           -0.4242, -0.4242, -0.4242, -0.4242, -0.4242, -0.4242, -0.4242,\n",
       "           -0.1569,  2.4142,  2.7960,  1.7523, -0.4242, -0.4242, -0.4242,\n",
       "           -0.4242, -0.4242, -0.4242, -0.4242, -0.4242, -0.4242, -0.4242],\n",
       "          [-0.4242, -0.4242, -0.4242, -0.4242, -0.4242, -0.4242, -0.4242,\n",
       "           -0.4242, -0.4242, -0.4242, -0.4242, -0.4242, -0.4242, -0.4242,\n",
       "            0.4922,  2.7960,  2.8088,  1.4978, -0.4242, -0.4242, -0.4242,\n",
       "           -0.4242, -0.4242, -0.4242, -0.4242, -0.4242, -0.4242, -0.4242],\n",
       "          [-0.4242, -0.4242, -0.4242, -0.4242, -0.4242, -0.4242, -0.4242,\n",
       "           -0.4242, -0.4242, -0.4242, -0.4242, -0.4242, -0.4242, -0.4242,\n",
       "            2.0323,  2.7833,  2.7960,  1.4978, -0.4242, -0.4242, -0.4242,\n",
       "           -0.4242, -0.4242, -0.4242, -0.4242, -0.4242, -0.4242, -0.4242],\n",
       "          [-0.4242, -0.4242, -0.4242, -0.4242, -0.4242, -0.4242, -0.4242,\n",
       "           -0.4242, -0.4242, -0.4242, -0.4242, -0.4242, -0.4242, -0.4242,\n",
       "            2.8088,  2.7960,  2.6815,  0.0849, -0.4242, -0.4242, -0.4242,\n",
       "           -0.4242, -0.4242, -0.4242, -0.4242, -0.4242, -0.4242, -0.4242],\n",
       "          [-0.4242, -0.4242, -0.4242, -0.4242, -0.4242, -0.4242, -0.4242,\n",
       "           -0.4242, -0.4242, -0.4242, -0.4242, -0.4242, -0.4242,  0.0976,\n",
       "            2.7960,  2.7833,  1.1286, -0.4242, -0.4242, -0.4242, -0.4242,\n",
       "           -0.4242, -0.4242, -0.4242, -0.4242, -0.4242, -0.4242, -0.4242],\n",
       "          [-0.4242, -0.4242, -0.4242, -0.4242, -0.4242, -0.4242, -0.4242,\n",
       "           -0.4242, -0.4242, -0.4242, -0.4242, -0.4242, -0.2842,  1.7778,\n",
       "            2.8215,  2.7960,  0.8868, -0.4242, -0.4242, -0.4242, -0.4242,\n",
       "           -0.4242, -0.4242, -0.4242, -0.4242, -0.4242, -0.4242, -0.4242],\n",
       "          [-0.4242, -0.4242, -0.4242, -0.4242, -0.4242, -0.4242, -0.4242,\n",
       "           -0.4242, -0.4242, -0.4242, -0.4242, -0.4242,  0.2249,  2.7833,\n",
       "            2.7960,  2.7833, -0.1696, -0.4242, -0.4242, -0.4242, -0.4242,\n",
       "           -0.4242, -0.4242, -0.4242, -0.4242, -0.4242, -0.4242, -0.4242],\n",
       "          [-0.4242, -0.4242, -0.4242, -0.4242, -0.4242, -0.4242, -0.4242,\n",
       "           -0.4242, -0.4242, -0.4242, -0.4242, -0.4242,  0.2249,  2.7960,\n",
       "            2.8215,  2.0196, -0.4242, -0.4242, -0.4242, -0.4242, -0.4242,\n",
       "           -0.4242, -0.4242, -0.4242, -0.4242, -0.4242, -0.4242, -0.4242],\n",
       "          [-0.4242, -0.4242, -0.4242, -0.4242, -0.4242, -0.4242, -0.4242,\n",
       "           -0.4242, -0.4242, -0.4242, -0.4242, -0.4242, -0.0296,  2.5287,\n",
       "            2.7960,  0.4668, -0.4242, -0.4242, -0.4242, -0.4242, -0.4242,\n",
       "           -0.4242, -0.4242, -0.4242, -0.4242, -0.4242, -0.4242, -0.4242],\n",
       "          [-0.4242, -0.4242, -0.4242, -0.4242, -0.4242, -0.4242, -0.4242,\n",
       "           -0.4242, -0.4242, -0.4242, -0.4242, -0.4242, -0.4242, -0.4242,\n",
       "           -0.4242, -0.4242, -0.4242, -0.4242, -0.4242, -0.4242, -0.4242,\n",
       "           -0.4242, -0.4242, -0.4242, -0.4242, -0.4242, -0.4242, -0.4242],\n",
       "          [-0.4242, -0.4242, -0.4242, -0.4242, -0.4242, -0.4242, -0.4242,\n",
       "           -0.4242, -0.4242, -0.4242, -0.4242, -0.4242, -0.4242, -0.4242,\n",
       "           -0.4242, -0.4242, -0.4242, -0.4242, -0.4242, -0.4242, -0.4242,\n",
       "           -0.4242, -0.4242, -0.4242, -0.4242, -0.4242, -0.4242, -0.4242]]]),\n",
       " tensor(7))"
      ]
     },
     "execution_count": 7,
     "metadata": {},
     "output_type": "execute_result"
    }
   ],
   "source": [
    "CustDat(train_x,train_y,tranfs)[0]"
   ]
  },
  {
   "cell_type": "code",
   "execution_count": 8,
   "id": "948a95e8-84d0-4ebe-add5-457efbaf4443",
   "metadata": {},
   "outputs": [],
   "source": [
    "train_dl = torch.utils.data.DataLoader(CustDat(train_x,train_y,tranfs),\n",
    "                                      batch_size= 16,\n",
    "                                      shuffle = True,\n",
    "                                      num_workers = 0,\n",
    "                                      pin_memory= True)\n",
    "\n",
    "val_dl = torch.utils.data.DataLoader(CustDat(val_x,val_y,tranfs),\n",
    "                                      batch_size= 16,\n",
    "                                      shuffle = True,\n",
    "                                      num_workers = 0,\n",
    "                                      pin_memory= True)\n"
   ]
  },
  {
   "cell_type": "code",
   "execution_count": 9,
   "id": "c22b5fcd-3bdd-485a-868f-09956d935a8b",
   "metadata": {},
   "outputs": [],
   "source": [
    "#output = ( (input - kernelsize + 2*padding ) / stride ) +1\n",
    "#           ( (28    -  3    + 2*1) / 1 ) +1  = 1 = 28 "
   ]
  },
  {
   "cell_type": "code",
   "execution_count": 12,
   "id": "e5f91036-554f-4769-a561-09208ce08ce1",
   "metadata": {},
   "outputs": [],
   "source": [
    "class Net(nn.Module):\n",
    "    def __init__(self):\n",
    "        super(Net, self).__init__()\n",
    "        # batch of data will be 16 images of dimension (1,28,28)\n",
    "        self.conv1 = nn.Conv2d(1,8,3,stride =1 , padding = 1) #size of img stays the same \n",
    "        # 16, 8,28,28, \n",
    "        self.maxpool1 = nn.MaxPool2d(2) # max pooling of kernel 2x2 , takes 2x2 and return 1 , so 1/4 remains\n",
    "        # 16 , 8, 14 , 14 \n",
    "        self.relu1 = nn.ReLU()\n",
    "        # 16,8,14,14 \n",
    "        self.conv2 = nn.Conv2d(8,16,3,stride =1 , padding = 1) #size of img stays the same \n",
    "        # 16, 16, 14,14\n",
    "        self.maxpool2 = nn.MaxPool2d(2)\n",
    "        # 16, 16, 7, 7 \n",
    "        self.relu2 = nn.ReLU()\n",
    "        # 16, 16, 7, 7 \n",
    "        #flatten \n",
    "        # 16, 16*7*7\n",
    "        self.fc = nn.Linear(16*7*7, 10) #photo of 16 channels , 7*7 dimensions\n",
    "        # 16 * 10 \n",
    "        \n",
    "    def forward(self,x):\n",
    "        out0 = self.conv1(x)\n",
    "        out1 = self.maxpool1(out0)\n",
    "        out2 = self.relu1(out1)\n",
    "        out3 = self.conv2(out2)\n",
    "        out4 = self.maxpool2(out3)\n",
    "        out5 = self.relu2(out4)\n",
    "        out6 = torch.flatten(out5, 1 ) # 1 says skip the 1st dimension and flatten all other dimensions\n",
    "        out7 = self.fc(out6)\n",
    "        return out7"
   ]
  },
  {
   "cell_type": "code",
   "execution_count": 13,
   "id": "8e581c58-e9ad-4be0-a10c-d3d871dbe439",
   "metadata": {},
   "outputs": [],
   "source": [
    "model = Net()"
   ]
  },
  {
   "cell_type": "code",
   "execution_count": 15,
   "id": "4fd3fb71-0e53-4c70-b6d7-26a444613dba",
   "metadata": {},
   "outputs": [],
   "source": [
    "loss_fn = nn.CrossEntropyLoss() # multiple class classification\n",
    "optimizer = torch.optim.SGD(model.parameters(), lr = 0.01)\n"
   ]
  },
  {
   "cell_type": "code",
   "execution_count": 17,
   "id": "4c90298c-0927-4d6c-898b-07c7e0243428",
   "metadata": {},
   "outputs": [],
   "source": [
    "num_epochs = 10 \n",
    "\n",
    "train_loss = [] \n",
    "val_loss = []\n",
    "\n",
    "\n",
    "for epoch in range(num_epochs):\n",
    "    train_epoch_loss = 0\n",
    "    val_epoch_loss = 0\n",
    "    for data,target in train_dl:\n",
    "        output = model(data)\n",
    "        loss = loss_fn(output, target)\n",
    "        train_epoch_loss += loss.detach().numpy()\n",
    "        \n",
    "        optimizer.zero_grad()\n",
    "        loss.backward()\n",
    "        optimizer.step()\n",
    "        \n",
    "        \n",
    "    with torch.no_grad():\n",
    "        for data,target in val_dl:\n",
    "            output = model(data)\n",
    "            loss = loss_fn(output, target)\n",
    "            val_epoch_loss += loss.detach().numpy()\n",
    "        \n",
    "    train_loss.append(train_epoch_loss)\n",
    "    val_loss.append(val_epoch_loss)\n",
    "    "
   ]
  },
  {
   "cell_type": "code",
   "execution_count": 18,
   "id": "edb7c584-37ca-4fad-a1e6-a7acb9bad86d",
   "metadata": {},
   "outputs": [
    {
     "data": {
      "text/plain": [
       "[<matplotlib.lines.Line2D at 0x27ce27b8820>]"
      ]
     },
     "execution_count": 18,
     "metadata": {},
     "output_type": "execute_result"
    },
    {
     "data": {
      "image/png": "[encoded data removed]",
      "text/plain": [
       "<Figure size 640x480 with 1 Axes>"
      ]
     },
     "metadata": {},
     "output_type": "display_data"
    }
   ],
   "source": [
    "plt.plot(train_loss)\n"
   ]
  },
  {
   "cell_type": "code",
   "execution_count": 19,
   "id": "9a1d5009-6061-4a2b-b5d3-fb3b95fc384b",
   "metadata": {},
   "outputs": [
    {
     "data": {
      "text/plain": [
       "[<matplotlib.lines.Line2D at 0x27ce28e4c70>]"
      ]
     },
     "execution_count": 19,
     "metadata": {},
     "output_type": "execute_result"
    },
    {
     "data": {
      "image/png": "[encoded data removed]",
      "text/plain": [
       "<Figure size 640x480 with 1 Axes>"
      ]
     },
     "metadata": {},
     "output_type": "display_data"
    }
   ],
   "source": [
    "plt.plot(val_loss)"
   ]
  },
  {
   "cell_type": "code",
   "execution_count": 32,
   "id": "b6742ffb-ec00-4542-aa8f-e3030e5ba205",
   "metadata": {},
   "outputs": [
    {
     "data": {
      "text/plain": [
       "(tensor(6), tensor([6]))"
      ]
     },
     "execution_count": 32,
     "metadata": {},
     "output_type": "execute_result"
    }
   ],
   "source": [
    "num = torch.randint(0, val_x.shape[0],(1,))\n",
    "\n",
    "ig = val_x[num]\n",
    "img = val_x[num][None , ...].float() / 255\n",
    "targ = val_y[num]\n",
    "model(tranfs(img)).argmax(), targ"
   ]
  },
  {
   "cell_type": "code",
   "execution_count": 33,
   "id": "27a367b3-b3a8-4357-ba52-5c9ce05de217",
   "metadata": {},
   "outputs": [
    {
     "data": {
      "image/png": "[encoded data removed]",
      "text/plain": [
       "<PIL.Image.Image image mode=L size=28x28>"
      ]
     },
     "execution_count": 33,
     "metadata": {},
     "output_type": "execute_result"
    }
   ],
   "source": [
    "transforms.ToPILImage()(ig)"
   ]
  }
 ],
 "metadata": {
  "kernelspec": {
   "display_name": "pytorch_env",
   "language": "python",
   "name": "pytorch_env"
  },
  "language_info": {
   "codemirror_mode": {
    "name": "ipython",
    "version": 3
   },
   "file_extension": ".py",
   "mimetype": "text/x-python",
   "name": "python",
   "nbconvert_exporter": "python",
   "pygments_lexer": "ipython3",
   "version": "3.9.13"
  }
 },
 "nbformat": 4,
 "nbformat_minor": 5
}
